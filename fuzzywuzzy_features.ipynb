{
 "cells": [
  {
   "cell_type": "code",
   "execution_count": 3,
   "metadata": {},
   "outputs": [],
   "source": [
    "import fuzzywuzzy\n",
    "from fuzzywuzzy import fuzz\n",
    "import nltk\n",
    "import pandas as pd\n",
    "import numpy as np\n",
    "import spacy\n",
    "\n",
    "sp = spacy.load('en_core_web_sm')"
   ]
  },
  {
   "cell_type": "code",
   "execution_count": 22,
   "metadata": {},
   "outputs": [],
   "source": [
    "file = pd.read_csv(r\"joined_train.txt\", sep='|' , encoding='latin-1')\n",
    "file_validation = pd.read_csv(r\"joined_validation.txt\", sep='|' , encoding='latin-1')"
   ]
  },
  {
   "cell_type": "code",
   "execution_count": null,
   "metadata": {},
   "outputs": [],
   "source": [
    "for entity in sentence5.ents:\n",
    "    print(entity.text + ' - ' + entity.label_ + ' - ' + str(spacy.explain(entity.label_)))"
   ]
  },
  {
   "cell_type": "code",
   "execution_count": null,
   "metadata": {},
   "outputs": [],
   "source": [
    "sp(\"alfons kemper\")"
   ]
  },
  {
   "cell_type": "code",
   "execution_count": null,
   "metadata": {},
   "outputs": [],
   "source": [
    "apples = sp(\"I like apples\")\n",
    "oranges = sp(\"I like oranges\")\n",
    "apples_oranges = apples.similarity(oranges)\n",
    "oranges_apples = oranges.similarity(apples)"
   ]
  },
  {
   "cell_type": "code",
   "execution_count": null,
   "metadata": {},
   "outputs": [],
   "source": [
    "apples_oranges"
   ]
  },
  {
   "cell_type": "code",
   "execution_count": null,
   "metadata": {},
   "outputs": [],
   "source": [
    "#for token in sentence5:\n",
    "#    print (token, token.tag_, token.pos_, spacy.explain(token.tag_))"
   ]
  },
  {
   "cell_type": "code",
   "execution_count": 5,
   "metadata": {},
   "outputs": [],
   "source": [
    "def get_tokens_features(sentence_):\n",
    "    sentence_sp = sp(sentence_)  \n",
    "    list_sentence = list(sentence_sp)\n",
    "    list_tokens_str = [str(i) for i in list_sentence]\n",
    "    return set(list_tokens_str)"
   ]
  },
  {
   "cell_type": "code",
   "execution_count": 24,
   "metadata": {},
   "outputs": [],
   "source": [
    "def prepare_features_fuzzy(input_df):\n",
    "    \n",
    "    joined_dataframe_with_references = input_df.copy()\n",
    "    \n",
    "    list1 = list(joined_dataframe_with_references['desc_without_puct.x'])\n",
    "    list2 = list(joined_dataframe_with_references['desc_without_puct.y'])\n",
    "    \n",
    "    joined_dataframe_with_references[\"fuzzy_similarity\"] = [fuzz.ratio(list1[i], list2[i]) for i in range(len(list1))]\n",
    "    joined_dataframe_with_references[\"fuzzy_similarity_sorted_tokens\"] = [fuzz.token_sort_ratio(list1[i], list2[i]) for i in range(len(list1))]\n",
    "    joined_dataframe_with_references[\"fuzzy_similarity_partial_ratio\"] = [fuzz.partial_ratio(list1[i], list2[i]) for i in range(len(list1))]\n",
    "    \n",
    "    \n",
    "    joined_dataframe_with_references[\"set_tokens_x\"] = [get_tokens_features(i) for i in list1]\n",
    "    joined_dataframe_with_references[\"set_tokens_y\"] = [get_tokens_features(i) for i in list2]  \n",
    "    joined_dataframe_with_references[\"common_tokens\"] = [list(joined_dataframe_with_references[\"set_tokens_x\"])[i].intersection(list(joined_dataframe_with_references[\"set_tokens_y\"])[i]) for i in range(joined_dataframe_with_references.shape[0])]\n",
    "    \n",
    "    joined_dataframe_with_references[\"len_tokens_x\"] = [len(i) for i in list(joined_dataframe_with_references[\"set_tokens_x\"])]\n",
    "    joined_dataframe_with_references[\"len_tokens_y\"] = [len(i) for i in list(joined_dataframe_with_references[\"set_tokens_y\"])]\n",
    "    joined_dataframe_with_references[\"len_common_tokens\"] = [len(i) for i in list(joined_dataframe_with_references[\"common_tokens\"])]\n",
    "    \n",
    "    joined_dataframe_with_references[\"common_to_smaller_ratio\"] = joined_dataframe_with_references[\"len_common_tokens\"]/joined_dataframe_with_references[[\"len_tokens_x\", \"len_tokens_y\"]].min(axis=1)\n",
    "    joined_dataframe_with_references[\"common_to_longer_ratio\"] = joined_dataframe_with_references[\"len_common_tokens\"]/joined_dataframe_with_references[[\"len_tokens_x\", \"len_tokens_y\"]].max(axis=1)\n",
    "    \n",
    "    return joined_dataframe_with_references"
   ]
  },
  {
   "cell_type": "code",
   "execution_count": 25,
   "metadata": {},
   "outputs": [],
   "source": [
    "prepared_file = prepare_features_fuzzy(file)"
   ]
  },
  {
   "cell_type": "code",
   "execution_count": 28,
   "metadata": {},
   "outputs": [],
   "source": [
    "prepared_file_validation = prepare_features_fuzzy(file_validation)"
   ]
  },
  {
   "cell_type": "code",
   "execution_count": 31,
   "metadata": {},
   "outputs": [],
   "source": [
    "data_to_model = prepared_file[[\"label\"\n",
    "                               , \"ltable_id\"\n",
    "                               , \"rtable_id\"\n",
    "                               , \"possible_year.x\"\n",
    "                               , \"possible_year.y\"\n",
    "                               , 'short_words_removed.x'\n",
    "                               , 'short_words_removed.y'\n",
    "                               , \"fuzzy_similarity\"\n",
    "                               , \"fuzzy_similarity_sorted_tokens\"\n",
    "                               , \"fuzzy_similarity_partial_ratio\"\n",
    "                               , 'len_tokens_x'\n",
    "                               , 'len_tokens_y'\n",
    "                               , 'len_common_tokens'\n",
    "                               , 'common_to_smaller_ratio'\n",
    "                               , 'common_to_longer_ratio']]"
   ]
  },
  {
   "cell_type": "code",
   "execution_count": 32,
   "metadata": {},
   "outputs": [],
   "source": [
    "data_to_predict = prepared_file_validation[[\"label\"\n",
    "                               , \"ltable_id\"\n",
    "                               , \"rtable_id\"\n",
    "                               , \"possible_year.x\"\n",
    "                               , \"possible_year.y\"\n",
    "                               , 'short_words_removed.x'\n",
    "                               , 'short_words_removed.y'\n",
    "                               , \"fuzzy_similarity\"\n",
    "                               , \"fuzzy_similarity_sorted_tokens\"\n",
    "                               , \"fuzzy_similarity_partial_ratio\"\n",
    "                               , 'len_tokens_x'\n",
    "                               , 'len_tokens_y'\n",
    "                               , 'len_common_tokens'\n",
    "                               , 'common_to_smaller_ratio'\n",
    "                               , 'common_to_longer_ratio']]"
   ]
  },
  {
   "cell_type": "code",
   "execution_count": 33,
   "metadata": {},
   "outputs": [],
   "source": [
    "data_to_model.to_csv(r'to_model.txt', header=True, index=None, sep='|', mode='w')"
   ]
  },
  {
   "cell_type": "code",
   "execution_count": 34,
   "metadata": {},
   "outputs": [],
   "source": [
    "data_to_predict.to_csv(r'to_predict.txt', header=True, index=None, sep='|', mode='w')"
   ]
  },
  {
   "cell_type": "code",
   "execution_count": null,
   "metadata": {},
   "outputs": [],
   "source": []
  }
 ],
 "metadata": {
  "kernelspec": {
   "display_name": "Python 3",
   "language": "python",
   "name": "python3"
  },
  "language_info": {
   "codemirror_mode": {
    "name": "ipython",
    "version": 3
   },
   "file_extension": ".py",
   "mimetype": "text/x-python",
   "name": "python",
   "nbconvert_exporter": "python",
   "pygments_lexer": "ipython3",
   "version": "3.7.2"
  }
 },
 "nbformat": 4,
 "nbformat_minor": 4
}
